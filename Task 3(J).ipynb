{
 "cells": [
  {
   "cell_type": "code",
   "execution_count": null,
   "id": "9d879531-e0f2-4124-92e2-25e28794a37e",
   "metadata": {},
   "outputs": [
    {
     "name": "stdout",
     "output_type": "stream",
     "text": [
      "3.8.7\n",
      "Bot: Hi! I’m your chatbot. Ask me anything (type 'exit' to quit).\n"
     ]
    },
    {
     "name": "stdin",
     "output_type": "stream",
     "text": [
      "You:  hi\n"
     ]
    },
    {
     "name": "stdout",
     "output_type": "stream",
     "text": [
      "Bot: Hello! How can I help you?\n"
     ]
    },
    {
     "name": "stdin",
     "output_type": "stream",
     "text": [
      "You:  bye\n"
     ]
    },
    {
     "name": "stdout",
     "output_type": "stream",
     "text": [
      "Bot: Goodbye! Have a great day!\n"
     ]
    }
   ],
   "source": [
    "import spacy\n",
    "print(spacy.__version__)\n",
    "\n",
    "nlp=spacy.load(\"en_core_web_sm\")\n",
    "\n",
    "\n",
    "intents = {\n",
    "    \"greeting\": [\"hello\", \"hi\", \"hey\"],\n",
    "    \"goodbye\": [\"bye\", \"goodbye\", \"see you\"],\n",
    "    \"thanks\": [\"thank you\", \"thanks\", \"thx\"],\n",
    "    \"name\": [\"your name\", \"who are you\"],\n",
    "    \"weather\": [\"weather\", \"climate\", \"temperature\"]\n",
    "}\n",
    "\n",
    "responses = {\n",
    "    \"greeting\": \"Hello! How can I help you?\",\n",
    "    \"goodbye\": \"Goodbye! Have a great day!\",\n",
    "    \"thanks\": \"You're welcome!\",\n",
    "    \"name\": \"I am a simple chatbot created using spaCy.\",\n",
    "    \"weather\": \"I'm not connected to the internet, but I hope it's sunny!\"\n",
    "}\n",
    "\n",
    "\n",
    "\n",
    "def get_intent(text):\n",
    "    doc = nlp(text.lower())\n",
    "    for token in doc:\n",
    "        for intent, keywords in intents.items():\n",
    "            if token.text in keywords:\n",
    "                return intent\n",
    "    return \"unknown\"\n",
    "\n",
    "\n",
    "\n",
    "print(\"Bot: Hi! I’m your chatbot. Ask me anything (type 'exit' to quit).\")\n",
    "while True:\n",
    "    user_input = input(\"You: \")\n",
    "    if user_input.lower() == \"exit\":\n",
    "        print(\"Bot: Bye! 👋\")\n",
    "        break\n",
    "\n",
    "    intent = get_intent(user_input)\n",
    "    response = responses.get(intent, \"I'm not sure how to respond to that.\")\n",
    "    print(\"Bot:\", response)"
   ]
  },
  {
   "cell_type": "code",
   "execution_count": null,
   "id": "f2310a91-b3ce-429c-9e90-6334115f0cf6",
   "metadata": {},
   "outputs": [],
   "source": []
  }
 ],
 "metadata": {
  "kernelspec": {
   "display_name": "Python 3 (ipykernel)",
   "language": "python",
   "name": "python3"
  },
  "language_info": {
   "codemirror_mode": {
    "name": "ipython",
    "version": 3
   },
   "file_extension": ".py",
   "mimetype": "text/x-python",
   "name": "python",
   "nbconvert_exporter": "python",
   "pygments_lexer": "ipython3",
   "version": "3.13.7"
  }
 },
 "nbformat": 4,
 "nbformat_minor": 5
}
